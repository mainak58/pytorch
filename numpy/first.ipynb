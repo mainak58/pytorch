{
 "cells": [
  {
   "cell_type": "code",
   "execution_count": 2,
   "id": "a6b692c4",
   "metadata": {},
   "outputs": [],
   "source": [
    "import numpy as np"
   ]
  },
  {
   "cell_type": "code",
   "execution_count": 4,
   "id": "80c4ba9e",
   "metadata": {},
   "outputs": [
    {
     "name": "stdout",
     "output_type": "stream",
     "text": [
      "[[1 2 3]\n",
      " [4 5 6]]\n"
     ]
    }
   ],
   "source": [
    "array_2d = np.array([\n",
    "\t[1, 2, 3],\n",
    "    [4, 5, 6]\n",
    "    ])\n",
    "\n",
    "print(array_2d)"
   ]
  },
  {
   "cell_type": "code",
   "execution_count": null,
   "id": "1fc834a0",
   "metadata": {},
   "outputs": [],
   "source": [
    "multi = np.multiply"
   ]
  }
 ],
 "metadata": {
  "kernelspec": {
   "display_name": "venv",
   "language": "python",
   "name": "python3"
  },
  "language_info": {
   "codemirror_mode": {
    "name": "ipython",
    "version": 3
   },
   "file_extension": ".py",
   "mimetype": "text/x-python",
   "name": "python",
   "nbconvert_exporter": "python",
   "pygments_lexer": "ipython3",
   "version": "3.13.1"
  }
 },
 "nbformat": 4,
 "nbformat_minor": 5
}
