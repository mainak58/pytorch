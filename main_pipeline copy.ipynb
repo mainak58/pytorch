{
 "cells": [
  {
   "cell_type": "code",
   "execution_count": null,
   "id": "068279d9",
   "metadata": {},
   "outputs": [
    {
     "name": "stdout",
     "output_type": "stream",
     "text": [
      "Loaded 15 chart images and 15 non-chart images.\n"
     ]
    }
   ],
   "source": [
    "import os\n",
    "import cv2\n",
    "import torch\n",
    "from torchvision import transforms\n",
    "\n",
    "\n",
    "train_chart_folder = \"train/chart\"\n",
    "train_nonchart_folder = \"train/nonchart\"\n",
    "\n",
    "to_tensor = transforms.Compose([\n",
    "    transforms.ToTensor(),\n",
    "    transforms.Resize((224,224)) \n",
    "])\n",
    "\n",
    "def load_images_as_tensors(folder):\n",
    "    tensors = []\n",
    "    for filename in os.listdir(folder):\n",
    "        if filename.endswith((\".png\", \".jpg\", \".jpeg\")):\n",
    "            img = cv2.imread(os.path.join(folder, filename))\n",
    "            img = cv2.cvtColor(img, cv2.COLOR_BGR2RGB)\n",
    "            tensor = to_tensor(img)\n",
    "            tensors.append(tensor)\n",
    "    return tensors\n",
    "\n",
    "chart_tensors = load_images_as_tensors(train_chart_folder)\n",
    "nonchart_tensors = load_images_as_tensors(train_nonchart_folder)\n",
    "\n",
    "\n",
    "print(f\"Loaded {len(chart_tensors)} chart images and {len(nonchart_tensors)} non-chart images.\")\n"
   ]
  },
  {
   "cell_type": "markdown",
   "id": "be10549f",
   "metadata": {},
   "source": [
    "used panda for data analysis"
   ]
  },
  {
   "cell_type": "code",
   "execution_count": 3,
   "id": "16960c13",
   "metadata": {},
   "outputs": [],
   "source": [
    "def preprocess_input_image(img_path):\n",
    "    img = cv2.imread(img_path)\n",
    "    img = cv2.cvtColor(img, cv2.COLOR_BGR2RGB)\n",
    "    tensor = to_tensor(img)\n",
    "    return tensor\n",
    "\n",
    "input_tensor = preprocess_input_image(\"page.png\")\n"
   ]
  },
  {
   "cell_type": "code",
   "execution_count": 9,
   "id": "3325ff8b",
   "metadata": {},
   "outputs": [
    {
     "name": "stdout",
     "output_type": "stream",
     "text": [
      "Max Cosine with chart images: 0.9999929070472717\n",
      "Max Cosine with non-chart images: 0.9954390525817871\n",
      "Max SSIM with chart images: 0.9975357\n",
      "Max SSIM with non-chart images: 0.5917752\n"
     ]
    }
   ],
   "source": [
    "from torch.nn.functional import cosine_similarity\n",
    "from skimage.metrics import structural_similarity as ssim\n",
    "import numpy as np\n",
    "from skimage.transform import resize\n",
    "\n",
    "def compute_similarity(input_tensor, train_tensors):\n",
    "    cos_sims = []\n",
    "    ssim_scores = []\n",
    "    input_np = input_tensor.permute(1,2,0).numpy()\n",
    "    \n",
    "    for t in train_tensors:\n",
    "        cos_sim = cosine_similarity(\n",
    "            input_tensor.flatten().unsqueeze(0),\n",
    "            t.flatten().unsqueeze(0)\n",
    "        ).item()\n",
    "        cos_sims.append(cos_sim)\n",
    "        \n",
    "        # SSIM\n",
    "        t_np = t.permute(1,2,0).numpy()\n",
    "        if t_np.shape != input_np.shape:\n",
    "            t_np_resized = resize(t_np, input_np.shape, preserve_range=True, anti_aliasing=True)\n",
    "        else:\n",
    "            t_np_resized = t_np\n",
    "        ssim_score, _ = ssim(t_np_resized, input_np, channel_axis=2, full=True, data_range=1.0)\n",
    "        ssim_scores.append(ssim_score)\n",
    "    \n",
    "    return cos_sims, ssim_scores \n",
    "\n",
    "cos_chart, ssim_chart = compute_similarity(input_tensor, chart_tensors)\n",
    "cos_nonchart, ssim_nonchart = compute_similarity(input_tensor, nonchart_tensors)\n",
    "\n",
    "print(\"Max Cosine with chart images:\", max(cos_chart))\n",
    "print(\"Max Cosine with non-chart images:\", max(cos_nonchart))\n",
    "print(\"Max SSIM with chart images:\", max(ssim_chart))\n",
    "print(\"Max SSIM with non-chart images:\", max(ssim_nonchart))\n"
   ]
  },
  {
   "cell_type": "code",
   "execution_count": 24,
   "id": "36aad27f",
   "metadata": {},
   "outputs": [
    {
     "name": "stdout",
     "output_type": "stream",
     "text": [
      "Input image is likely a chart\n"
     ]
    }
   ],
   "source": [
    "if max(cos_chart) > max(cos_nonchart):\n",
    "    print(\"Input image is likely a chart\")\n",
    "else:\n",
    "    print(\"Input image is likely non-chart\")\n"
   ]
  },
  {
   "cell_type": "code",
   "execution_count": 25,
   "id": "93e903ce",
   "metadata": {},
   "outputs": [
    {
     "name": "stdout",
     "output_type": "stream",
     "text": [
      "Input image is likely a chart\n"
     ]
    }
   ],
   "source": [
    "if max(ssim_chart) > max(ssim_nonchart):\n",
    "    print(\"Input image is likely a chart\")\n",
    "else:\n",
    "    print(\"Input image is likely non-chart\")"
   ]
  }
 ],
 "metadata": {
  "kernelspec": {
   "display_name": "venv",
   "language": "python",
   "name": "python3"
  },
  "language_info": {
   "codemirror_mode": {
    "name": "ipython",
    "version": 3
   },
   "file_extension": ".py",
   "mimetype": "text/x-python",
   "name": "python",
   "nbconvert_exporter": "python",
   "pygments_lexer": "ipython3",
   "version": "3.13.7"
  }
 },
 "nbformat": 4,
 "nbformat_minor": 5
}
