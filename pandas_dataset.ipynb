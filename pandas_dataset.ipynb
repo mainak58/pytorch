{
 "cells": [
  {
   "cell_type": "code",
   "execution_count": 29,
   "id": "802f1c37",
   "metadata": {},
   "outputs": [],
   "source": [
    "import os\n",
    "import cv2\n",
    "import torch\n",
    "from torchvision import transforms\n",
    "from torch.nn.functional import cosine_similarity\n",
    "from skimage.metrics import structural_similarity as ssim\n",
    "import numpy as np\n",
    "from skimage.transform import resize\n",
    "import pandas as pd\n",
    "\n",
    "train_chart_folder = \"train/chart\"\n",
    "train_nonchart_folder = \"train/nonchart\"\n",
    "\n",
    "to_tensor = transforms.Compose([\n",
    "    transforms.ToTensor(),\n",
    "    transforms.Resize((224,224)) \n",
    "])\n",
    "\n",
    "def compute_similarity(input_tensor, train_tensors):\n",
    "    cos_sims = []\n",
    "    ssim_scores = []\n",
    "    input_np = input_tensor.permute(1,2,0).numpy()\n",
    "\n",
    "    for t in train_tensors:\n",
    "        cos_sim = cosine_similarity(\n",
    "            input_tensor.flatten().unsqueeze(0),\n",
    "            t.flatten().unsqueeze(0)\n",
    "        ).item()\n",
    "        cos_sims.append(cos_sim)\n",
    "\n",
    "        t_np = t.permute(1,2,0).numpy()\n",
    "        if t_np.shape != input_np.shape:\n",
    "            t_np_resized = resize(t_np, input_np.shape, preserve_range=True, anti_aliasing=True)\n",
    "        else:\n",
    "            t_np_resized = t_np\n",
    "        ssim_score, _ = ssim(t_np_resized, input_np, channel_axis=2, full=True, data_range=1.0)\n",
    "        ssim_scores.append(ssim_score)\n",
    "\n",
    "    return cos_sims, ssim_scores\n",
    "\n",
    "def panda_for_analytics(folder, input_tensor, cos_sims, ssim_scores, excel_name):\n",
    "    rows = []\n",
    "    \n",
    "    image_files = [f for f in os.listdir(folder) if f.endswith((\".png\", \".jpg\", \".jpeg\"))]\n",
    "    image_files = image_files[:len(cos_sims)]\n",
    "    \n",
    "    for idx, filename in enumerate(image_files):\n",
    "        img = cv2.imread(os.path.join(folder, filename))\n",
    "        img = cv2.cvtColor(img, cv2.COLOR_BGR2RGB)\n",
    "        t = to_tensor(img)\n",
    "        \n",
    "        cos_sim = cos_sims[idx]\n",
    "        ssim_score = ssim_scores[idx]\n",
    "        \n",
    "        row = {\n",
    "            \"Folder\": folder,\n",
    "            \"File\": filename,\n",
    "            \"inputimagename\": \"page.png\", \n",
    "            \"Shape\": tuple(t.shape),\n",
    "            \"Min\": t.min().item(),\n",
    "            \"Max\": t.max().item(),\n",
    "            \"Mean\": t.mean().item(),\n",
    "            \"cosinesim\": cos_sim,\n",
    "            \"ssim_scores\": ssim_score\n",
    "        }\n",
    "        rows.append(row)\n",
    "\n",
    "    df = pd.DataFrame(rows)\n",
    "    df.to_excel(excel_name, index=False, engine='openpyxl')\n",
    "    return df\n",
    "\n"
   ]
  },
  {
   "cell_type": "code",
   "execution_count": 30,
   "id": "deb96663",
   "metadata": {},
   "outputs": [],
   "source": [
    "def preprocess_input_image(img_path):\n",
    "    img = cv2.imread(img_path)\n",
    "    img = cv2.cvtColor(img, cv2.COLOR_BGR2RGB)\n",
    "    tensor = to_tensor(img)\n",
    "    return tensor\n",
    "\n",
    "input_tensor = preprocess_input_image(\"page.png\")\n"
   ]
  },
  {
   "cell_type": "code",
   "execution_count": 31,
   "id": "7b7b24ba",
   "metadata": {},
   "outputs": [],
   "source": [
    "def load_images_as_tensors(folder):\n",
    "    tensors = []\n",
    "    for filename in os.listdir(folder):\n",
    "        if filename.endswith((\".png\", \".jpg\", \".jpeg\")):\n",
    "            img_path = os.path.join(folder, filename)\n",
    "            img = cv2.imread(img_path)\n",
    "            img = cv2.cvtColor(img, cv2.COLOR_BGR2RGB)\n",
    "            tensor = to_tensor(img)\n",
    "            tensors.append(tensor)\n",
    "    return tensors\n",
    "\n",
    "chart_tensors = load_images_as_tensors(train_chart_folder)\n",
    "nonchart_tensors = load_images_as_tensors(train_nonchart_folder)"
   ]
  },
  {
   "cell_type": "code",
   "execution_count": 32,
   "id": "82bc133b",
   "metadata": {},
   "outputs": [
    {
     "name": "stdout",
     "output_type": "stream",
     "text": [
      "Max Cosine with chart images: 0.9999929070472717\n",
      "Max Cosine with non-chart images: 0.9954390525817871\n",
      "Max SSIM with chart images: 0.9975357\n",
      "Max SSIM with non-chart images: 0.5917752\n"
     ]
    }
   ],
   "source": [
    "cos_chart, ssim_chart = compute_similarity(input_tensor, chart_tensors)\n",
    "cos_nonchart, ssim_nonchart = compute_similarity(input_tensor, nonchart_tensors)\n",
    "\n",
    "print(\"Max Cosine with chart images:\", max(cos_chart))\n",
    "print(\"Max Cosine with non-chart images:\", max(cos_nonchart))\n",
    "print(\"Max SSIM with chart images:\", max(ssim_chart))\n",
    "print(\"Max SSIM with non-chart images:\", max(ssim_nonchart))\n",
    "\n",
    "chart_df = panda_for_analytics(train_chart_folder, input_tensor, cos_chart, ssim_chart, \"chart_stats.xlsx\")\n",
    "# nonchart_df = panda_for_analytics(train_nonchart_folder, input_tensor, cos_nonchart, ssim_nonchart, \"nonchart_stats2.xlsx\")\n"
   ]
  }
 ],
 "metadata": {
  "kernelspec": {
   "display_name": "venv",
   "language": "python",
   "name": "python3"
  },
  "language_info": {
   "codemirror_mode": {
    "name": "ipython",
    "version": 3
   },
   "file_extension": ".py",
   "mimetype": "text/x-python",
   "name": "python",
   "nbconvert_exporter": "python",
   "pygments_lexer": "ipython3",
   "version": "3.13.7"
  }
 },
 "nbformat": 4,
 "nbformat_minor": 5
}
