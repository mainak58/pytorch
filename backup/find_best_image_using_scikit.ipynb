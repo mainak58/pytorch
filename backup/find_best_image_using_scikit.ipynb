{
 "cells": [
  {
   "cell_type": "code",
   "execution_count": 11,
   "id": "0529f314",
   "metadata": {},
   "outputs": [
    {
     "ename": "ValueError",
     "evalue": "Input images must have the same dimensions.",
     "output_type": "error",
     "traceback": [
      "\u001b[31m---------------------------------------------------------------------------\u001b[39m",
      "\u001b[31mValueError\u001b[39m                                Traceback (most recent call last)",
      "\u001b[36mCell\u001b[39m\u001b[36m \u001b[39m\u001b[32mIn[11]\u001b[39m\u001b[32m, line 41\u001b[39m\n\u001b[32m     38\u001b[39m images_folder = \u001b[33mr\u001b[39m\u001b[33m\"\u001b[39m\u001b[33mC:\u001b[39m\u001b[33m\\\u001b[39m\u001b[33mUsers\u001b[39m\u001b[33m\\\u001b[39m\u001b[33mMAINAK\u001b[39m\u001b[33m\\\u001b[39m\u001b[33mDesktop\u001b[39m\u001b[33m\\\u001b[39m\u001b[33mopencv\u001b[39m\u001b[33m\\\u001b[39m\u001b[33mdataset\u001b[39m\u001b[33m\\\u001b[39m\u001b[33mtrain\u001b[39m\u001b[33m\\\u001b[39m\u001b[33mchart\u001b[39m\u001b[33m\"\u001b[39m\n\u001b[32m     39\u001b[39m reference_image = \u001b[33mr\u001b[39m\u001b[33m\"\u001b[39m\u001b[33mC:\u001b[39m\u001b[33m\\\u001b[39m\u001b[33mUsers\u001b[39m\u001b[33m\\\u001b[39m\u001b[33mMAINAK\u001b[39m\u001b[33m\\\u001b[39m\u001b[33mDesktop\u001b[39m\u001b[33m\\\u001b[39m\u001b[33mopencv\u001b[39m\u001b[33m\\\u001b[39m\u001b[33mdataset\u001b[39m\u001b[33m\\\u001b[39m\u001b[33mcharts\u001b[39m\u001b[33m\\\u001b[39m\u001b[33mpage.png\u001b[39m\u001b[33m\"\u001b[39m\n\u001b[32m---> \u001b[39m\u001b[32m41\u001b[39m image_matches = \u001b[43mfind_best_match\u001b[49m\u001b[43m(\u001b[49m\u001b[43mreference_image\u001b[49m\u001b[43m,\u001b[49m\u001b[43m \u001b[49m\u001b[43mimages_folder\u001b[49m\u001b[43m)\u001b[49m\n\u001b[32m     43\u001b[39m \u001b[38;5;66;03m# Check if there were any valid matches and print the results\u001b[39;00m\n\u001b[32m     44\u001b[39m \u001b[38;5;28;01mif\u001b[39;00m image_matches:\n",
      "\u001b[36mCell\u001b[39m\u001b[36m \u001b[39m\u001b[32mIn[11]\u001b[39m\u001b[32m, line 27\u001b[39m, in \u001b[36mfind_best_match\u001b[39m\u001b[34m(template_path, image_folder)\u001b[39m\n\u001b[32m     24\u001b[39m         \u001b[38;5;28mprint\u001b[39m(\u001b[33mf\u001b[39m\u001b[33m\"\u001b[39m\u001b[33mSkipping invalid image: \u001b[39m\u001b[38;5;132;01m{\u001b[39;00mpath\u001b[38;5;132;01m}\u001b[39;00m\u001b[33m\"\u001b[39m)\n\u001b[32m     25\u001b[39m         \u001b[38;5;28;01mcontinue\u001b[39;00m  \u001b[38;5;66;03m# Skip invalid images that couldn't be read\u001b[39;00m\n\u001b[32m---> \u001b[39m\u001b[32m27\u001b[39m     score, _ = \u001b[43mssim\u001b[49m\u001b[43m(\u001b[49m\u001b[43mtemplate\u001b[49m\u001b[43m,\u001b[49m\u001b[43m \u001b[49m\u001b[43mimg\u001b[49m\u001b[43m,\u001b[49m\u001b[43m \u001b[49m\u001b[43mfull\u001b[49m\u001b[43m=\u001b[49m\u001b[38;5;28;43;01mTrue\u001b[39;49;00m\u001b[43m)\u001b[49m  \u001b[38;5;66;03m# SSIM returns the similarity score and an image comparison map\u001b[39;00m\n\u001b[32m     28\u001b[39m     image_scores.append((path, score))\n\u001b[32m     30\u001b[39m \u001b[38;5;66;03m# Sort the images by score in descending order\u001b[39;00m\n",
      "\u001b[36mFile \u001b[39m\u001b[32mc:\\Users\\MAINAK\\Desktop\\opencv\\venv\\Lib\\site-packages\\skimage\\metrics\\_structural_similarity.py:118\u001b[39m, in \u001b[36mstructural_similarity\u001b[39m\u001b[34m(im1, im2, win_size, gradient, data_range, channel_axis, gaussian_weights, full, **kwargs)\u001b[39m\n\u001b[32m     15\u001b[39m \u001b[38;5;28;01mdef\u001b[39;00m\u001b[38;5;250m \u001b[39m\u001b[34mstructural_similarity\u001b[39m(\n\u001b[32m     16\u001b[39m     im1,\n\u001b[32m     17\u001b[39m     im2,\n\u001b[32m   (...)\u001b[39m\u001b[32m     25\u001b[39m     **kwargs,\n\u001b[32m     26\u001b[39m ):\n\u001b[32m     27\u001b[39m \u001b[38;5;250m    \u001b[39m\u001b[33;03m\"\"\"\u001b[39;00m\n\u001b[32m     28\u001b[39m \u001b[33;03m    Compute the mean structural similarity index between two images.\u001b[39;00m\n\u001b[32m     29\u001b[39m \u001b[33;03m    Please pay attention to the `data_range` parameter with floating-point images.\u001b[39;00m\n\u001b[32m   (...)\u001b[39m\u001b[32m    116\u001b[39m \n\u001b[32m    117\u001b[39m \u001b[33;03m    \"\"\"\u001b[39;00m\n\u001b[32m--> \u001b[39m\u001b[32m118\u001b[39m     \u001b[43mcheck_shape_equality\u001b[49m\u001b[43m(\u001b[49m\u001b[43mim1\u001b[49m\u001b[43m,\u001b[49m\u001b[43m \u001b[49m\u001b[43mim2\u001b[49m\u001b[43m)\u001b[49m\n\u001b[32m    119\u001b[39m     float_type = _supported_float_type(im1.dtype)\n\u001b[32m    121\u001b[39m     \u001b[38;5;28;01mif\u001b[39;00m channel_axis \u001b[38;5;129;01mis\u001b[39;00m \u001b[38;5;129;01mnot\u001b[39;00m \u001b[38;5;28;01mNone\u001b[39;00m:\n\u001b[32m    122\u001b[39m         \u001b[38;5;66;03m# loop over channels\u001b[39;00m\n",
      "\u001b[36mFile \u001b[39m\u001b[32mc:\\Users\\MAINAK\\Desktop\\opencv\\venv\\Lib\\site-packages\\skimage\\_shared\\utils.py:627\u001b[39m, in \u001b[36mcheck_shape_equality\u001b[39m\u001b[34m(*images)\u001b[39m\n\u001b[32m    625\u001b[39m image0 = images[\u001b[32m0\u001b[39m]\n\u001b[32m    626\u001b[39m \u001b[38;5;28;01mif\u001b[39;00m \u001b[38;5;129;01mnot\u001b[39;00m \u001b[38;5;28mall\u001b[39m(image0.shape == image.shape \u001b[38;5;28;01mfor\u001b[39;00m image \u001b[38;5;129;01min\u001b[39;00m images[\u001b[32m1\u001b[39m:]):\n\u001b[32m--> \u001b[39m\u001b[32m627\u001b[39m     \u001b[38;5;28;01mraise\u001b[39;00m \u001b[38;5;167;01mValueError\u001b[39;00m(\u001b[33m'\u001b[39m\u001b[33mInput images must have the same dimensions.\u001b[39m\u001b[33m'\u001b[39m)\n\u001b[32m    628\u001b[39m \u001b[38;5;28;01mreturn\u001b[39;00m\n",
      "\u001b[31mValueError\u001b[39m: Input images must have the same dimensions."
     ]
    }
   ],
   "source": [
    "import os\n",
    "from skimage.metrics import structural_similarity as ssim\n",
    "import cv2\n",
    "\n",
    "def find_best_match(template_path, image_folder):\n",
    "    # Load the template image\n",
    "    template = cv2.imread(template_path, cv2.IMREAD_GRAYSCALE)\n",
    "    image_scores = []  # List to hold tuples of (image_path, score)\n",
    "\n",
    "    # Get all image files from the folder (case insensitive check for extensions)\n",
    "    image_paths = [\n",
    "        os.path.join(image_folder, f) for f in os.listdir(image_folder) \n",
    "        if f.lower().endswith(('.png', '.jpg', '.jpeg'))\n",
    "    ]\n",
    "    \n",
    "    if not image_paths:\n",
    "        print(\"No valid image files found in the folder!\")\n",
    "        return []\n",
    "\n",
    "    # Compare each image in the folder with the template\n",
    "    for path in image_paths:\n",
    "        img = cv2.imread(path, cv2.IMREAD_GRAYSCALE)\n",
    "        if img is None:\n",
    "            print(f\"Skipping invalid image: {path}\")\n",
    "            continue  # Skip invalid images that couldn't be read\n",
    "        \n",
    "        score, _ = ssim(template, img, full=True)  # SSIM returns the similarity score and an image comparison map\n",
    "        image_scores.append((path, score))\n",
    "\n",
    "    # Sort the images by score in descending order\n",
    "    image_scores.sort(key=lambda x: x[1], reverse=True)\n",
    "\n",
    "    # Convert the scores to percentage\n",
    "    image_scores = [(path, score * 100) for path, score in image_scores]\n",
    "    return image_scores\n",
    "\n",
    "if __name__ == \"__main__\":\n",
    "    images_folder = r\"C:\\Users\\MAINAK\\Desktop\\opencv\\dataset\\train\\chart\"\n",
    "    reference_image = r\"C:\\Users\\MAINAK\\Desktop\\opencv\\dataset\\charts\\page.png\"\n",
    "\n",
    "    image_matches = find_best_match(reference_image, images_folder)\n",
    "\n",
    "    # Check if there were any valid matches and print the results\n",
    "    if image_matches:\n",
    "        for match, score in image_matches:\n",
    "            print(f\"Image: {match} - Similarity score: {score:.2f}%\")\n",
    "    else:\n",
    "        print(\"No valid images found for comparison.\")\n"
   ]
  }
 ],
 "metadata": {
  "kernelspec": {
   "display_name": "venv",
   "language": "python",
   "name": "python3"
  },
  "language_info": {
   "codemirror_mode": {
    "name": "ipython",
    "version": 3
   },
   "file_extension": ".py",
   "mimetype": "text/x-python",
   "name": "python",
   "nbconvert_exporter": "python",
   "pygments_lexer": "ipython3",
   "version": "3.13.1"
  }
 },
 "nbformat": 4,
 "nbformat_minor": 5
}
