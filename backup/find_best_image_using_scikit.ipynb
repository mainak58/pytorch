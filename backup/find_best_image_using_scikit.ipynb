{
 "cells": [
  {
   "cell_type": "code",
   "execution_count": 3,
   "id": "0529f314",
   "metadata": {},
   "outputs": [
    {
     "name": "stdout",
     "output_type": "stream",
     "text": [
      "Image: C:\\Users\\MAINAK\\Desktop\\opencv\\dataset\\charts\\page.png - Similarity score: 100.00%\n",
      "Image: C:\\Users\\MAINAK\\Desktop\\opencv\\dataset\\charts\\page2.png - Similarity score: 100.00%\n",
      "Image: C:\\Users\\MAINAK\\Desktop\\opencv\\dataset\\charts\\page3.png - Similarity score: 99.33%\n",
      "Image: C:\\Users\\MAINAK\\Desktop\\opencv\\dataset\\charts\\nc_page_82.png - Similarity score: 85.52%\n",
      "Image: C:\\Users\\MAINAK\\Desktop\\opencv\\dataset\\charts\\nc_page_67.png - Similarity score: 85.51%\n",
      "Image: C:\\Users\\MAINAK\\Desktop\\opencv\\dataset\\charts\\nc_page_93.png - Similarity score: 85.36%\n",
      "Image: C:\\Users\\MAINAK\\Desktop\\opencv\\dataset\\charts\\nc_page.png - Similarity score: 85.33%\n"
     ]
    }
   ],
   "source": [
    "import os\n",
    "from skimage.metrics import structural_similarity as ssim\n",
    "import cv2\n",
    "\n",
    "def find_best_match(template_path, image_folder):\n",
    "    # Load the template image\n",
    "    template = cv2.imread(template_path, cv2.IMREAD_GRAYSCALE)\n",
    "    image_scores = []  # List to hold tuples of (image_path, score)\n",
    "\n",
    "    # Get all image files from the folder (case insensitive check for extensions)\n",
    "    image_paths = [\n",
    "        os.path.join(image_folder, f) for f in os.listdir(image_folder) \n",
    "        if f.lower().endswith(('.png', '.jpg', '.jpeg'))\n",
    "    ]\n",
    "    \n",
    "    if not image_paths:\n",
    "        print(\"No valid image files found in the folder!\")\n",
    "        return []\n",
    "\n",
    "    # Compare each image in the folder with the template\n",
    "    for path in image_paths:\n",
    "        img = cv2.imread(path, cv2.IMREAD_GRAYSCALE)\n",
    "        if img is None:\n",
    "            print(f\"Skipping invalid image: {path}\")\n",
    "            continue  # Skip invalid images that couldn't be read\n",
    "        \n",
    "        score, _ = ssim(template, img, full=True)  # SSIM returns the similarity score and an image comparison map\n",
    "        image_scores.append((path, score))\n",
    "\n",
    "    # Sort the images by score in descending order\n",
    "    image_scores.sort(key=lambda x: x[1], reverse=True)\n",
    "\n",
    "    # Convert the scores to percentage\n",
    "    image_scores = [(path, score * 100) for path, score in image_scores]\n",
    "    return image_scores\n",
    "\n",
    "if __name__ == \"__main__\":\n",
    "    images_folder = r\"C:\\Users\\MAINAK\\Desktop\\opencv\\dataset\\charts\"\n",
    "    reference_image = r\"C:\\Users\\MAINAK\\Desktop\\opencv\\dataset\\charts\\page.png\"\n",
    "\n",
    "    image_matches = find_best_match(reference_image, images_folder)\n",
    "\n",
    "    # Check if there were any valid matches and print the results\n",
    "    if image_matches:\n",
    "        for match, score in image_matches:\n",
    "            print(f\"Image: {match} - Similarity score: {score:.2f}%\")\n",
    "    else:\n",
    "        print(\"No valid images found for comparison.\")\n"
   ]
  }
 ],
 "metadata": {
  "kernelspec": {
   "display_name": "venv",
   "language": "python",
   "name": "python3"
  },
  "language_info": {
   "codemirror_mode": {
    "name": "ipython",
    "version": 3
   },
   "file_extension": ".py",
   "mimetype": "text/x-python",
   "name": "python",
   "nbconvert_exporter": "python",
   "pygments_lexer": "ipython3",
   "version": "3.13.1"
  }
 },
 "nbformat": 4,
 "nbformat_minor": 5
}
