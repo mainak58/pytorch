{
 "cells": [
  {
   "cell_type": "code",
   "execution_count": 1,
   "id": "470c9ebd",
   "metadata": {},
   "outputs": [],
   "source": [
    "import cv2\n",
    "import numpy as np\n",
    "from pathlib import Path"
   ]
  },
  {
   "cell_type": "code",
   "execution_count": 3,
   "id": "0e2a9366",
   "metadata": {},
   "outputs": [],
   "source": [
    "\n",
    "def find_chart_and_percentage(images_dir, reference_img_path):\n",
    "    ref_image = cv2.imread(str(reference_img_path), cv2.IMREAD_GRAYSCALE)\n",
    "    ref_image = cv2.resize(ref_image, (300, 300))\n",
    "    \n",
    "    best_score = -1\n",
    "    best_image_path = None\n",
    "    \n",
    "    \n",
    "    for img_path in Path(images_dir).glob(\"*.png\"):\n",
    "        img_gray = cv2.imread(str(img_path), cv2.IMREAD_GRAYSCALE)\n",
    "        img_gray = cv2.resize(img_gray, (300, 300))\n",
    "        \n",
    "        score = cv2.matchTemplate(img_gray, ref_image, cv2.TM_CCOEFF_NORMED).max()\n",
    "        \n",
    "        if score > best_score:\n",
    "            best_score = score\n",
    "            best_image_path = img_path\n",
    "        if best_image_path is None:\n",
    "            print(\"no chart found\")\n",
    "            return None, None\n",
    "        \n",
    "    \n",
    "    chart_image = cv2.imread(str(best_image_path))\n",
    "    chart_gray = cv2.cvtColor(chart_image, cv2.COLOR_BGR2GRAY)\n",
    "    _, thresh = cv2.threshold(chart_gray, 200, 255, cv2.THRESH_BINARY_INV)\n",
    "    contours, _ = cv2.findContours(thresh, cv2.RETR_EXTERNAL, cv2.CHAIN_APPROX_SIMPLE)\n",
    "\t\n",
    "    bar_contor = max(contours, key= cv2.contourArea)\n",
    "\t\n",
    "    x, y, w, h = cv2.boundingRect(bar_contor)\n",
    "    img_height = chart_image.shape[0]\n",
    "    bar_percentage = (h / img_height) * 100\n",
    "\n",
    "    return str(best_image_path), round(bar_percentage, 2)"
   ]
  },
  {
   "cell_type": "code",
   "execution_count": null,
   "id": "e8232a75",
   "metadata": {},
   "outputs": [
    {
     "name": "stdout",
     "output_type": "stream",
     "text": [
      "Best match: C:\\Users\\MAINAK\\Desktop\\opencv\\dataset\\charts\\page.png\n",
      "Student scored: 19.76%\n"
     ]
    }
   ],
   "source": [
    "# if __name__ == \"__main__\":\n",
    "#     images_folder = r\"C:\\Users\\MAINAK\\Desktop\\opencv\\dataset\\charts\"\n",
    "#     reference_image = r\"C:\\Users\\MAINAK\\Desktop\\opencv\\dataset\\charts\\page.png\"\n",
    "\n",
    "#     match, percent = find_chart_and_percentage(images_folder, reference_image)\n",
    "\n",
    "#     if match:\n",
    "#         print(f\"Best match: {match}\")\n",
    "#         print(f\"Student scored: {percent}%\")"
   ]
  },
  {
   "cell_type": "code",
   "execution_count": 5,
   "id": "0c069aa8",
   "metadata": {},
   "outputs": [
    {
     "name": "stdout",
     "output_type": "stream",
     "text": [
      "\n",
      "Similarity ranking (Best → Worst):\n",
      "C:\\Users\\MAINAK\\Desktop\\opencv\\image_creation\\train\\chart\\9.png => similarity score: 2830.6535\n",
      "C:\\Users\\MAINAK\\Desktop\\opencv\\image_creation\\train\\chart\\11.png => similarity score: 3277.3889\n",
      "C:\\Users\\MAINAK\\Desktop\\opencv\\image_creation\\train\\chart\\13.png => similarity score: 3405.5440\n",
      "C:\\Users\\MAINAK\\Desktop\\opencv\\image_creation\\train\\chart\\7.png => similarity score: 3682.3332\n",
      "C:\\Users\\MAINAK\\Desktop\\opencv\\image_creation\\train\\chart\\5.png => similarity score: 11009.7171\n",
      "C:\\Users\\MAINAK\\Desktop\\opencv\\image_creation\\train\\chart\\15.png => similarity score: 11470.4198\n",
      "C:\\Users\\MAINAK\\Desktop\\opencv\\image_creation\\train\\chart\\4.png => similarity score: 12018.8909\n",
      "C:\\Users\\MAINAK\\Desktop\\opencv\\image_creation\\train\\chart\\27.png => similarity score: 12020.7137\n",
      "C:\\Users\\MAINAK\\Desktop\\opencv\\image_creation\\train\\chart\\17.png => similarity score: 12030.0019\n",
      "C:\\Users\\MAINAK\\Desktop\\opencv\\image_creation\\train\\chart\\25.png => similarity score: 12031.6513\n",
      "C:\\Users\\MAINAK\\Desktop\\opencv\\image_creation\\train\\chart\\19.png => similarity score: 12041.1287\n",
      "C:\\Users\\MAINAK\\Desktop\\opencv\\image_creation\\train\\chart\\29.png => similarity score: 12044.6754\n",
      "C:\\Users\\MAINAK\\Desktop\\opencv\\image_creation\\train\\chart\\2.png => similarity score: 12055.6037\n",
      "C:\\Users\\MAINAK\\Desktop\\opencv\\image_creation\\train\\chart\\21.png => similarity score: 12057.5996\n",
      "C:\\Users\\MAINAK\\Desktop\\opencv\\image_creation\\train\\chart\\23.png => similarity score: 12059.9750\n"
     ]
    }
   ],
   "source": [
    "import cv2\n",
    "import os\n",
    "import numpy as np\n",
    "\n",
    "def find_all_chart_matches(images_dir, reference_img_path):\n",
    "    ref_image = cv2.imread(str(reference_img_path), cv2.IMREAD_GRAYSCALE)\n",
    "    ref_image = cv2.resize(ref_image, (300, 300))\n",
    "\n",
    "    matches = []\n",
    "\n",
    "    for img_name in os.listdir(images_dir):\n",
    "        img_path = os.path.join(images_dir, img_name)\n",
    "        chart_image = cv2.imread(img_path, cv2.IMREAD_GRAYSCALE)\n",
    "\n",
    "        if chart_image is None:\n",
    "            continue\n",
    "\n",
    "        chart_image = cv2.resize(chart_image, (300, 300))\n",
    "        score = cv2.norm(ref_image, chart_image, cv2.NORM_L2)\n",
    "        matches.append((img_path, score))\n",
    "\n",
    "    matches.sort(key=lambda x: x[1])\n",
    "    return matches\n",
    "\n",
    "\n",
    "if __name__ == \"__main__\":\n",
    "\n",
    "    images_folder = r\"C:\\Users\\MAINAK\\Desktop\\opencv\\image_creation\\train\\chart\"\n",
    "    reference_chart = r\"C:\\Users\\MAINAK\\Desktop\\opencv\\dataset\\charts\\page.png\"\n",
    "\n",
    "    all_matches = find_all_chart_matches(images_folder, reference_chart)\n",
    "\n",
    "    print(\"\\nSimilarity ranking (Best → Worst):\")\n",
    "    for img_path, score in all_matches:\n",
    "        print(f\"{img_path} => similarity score: {score:.4f}\")\n"
   ]
  }
 ],
 "metadata": {
  "kernelspec": {
   "display_name": "venv",
   "language": "python",
   "name": "python3"
  },
  "language_info": {
   "codemirror_mode": {
    "name": "ipython",
    "version": 3
   },
   "file_extension": ".py",
   "mimetype": "text/x-python",
   "name": "python",
   "nbconvert_exporter": "python",
   "pygments_lexer": "ipython3",
   "version": "3.13.1"
  }
 },
 "nbformat": 4,
 "nbformat_minor": 5
}
