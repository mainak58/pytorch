{
 "cells": [
  {
   "cell_type": "code",
   "execution_count": 13,
   "id": "85f6421a",
   "metadata": {},
   "outputs": [
    {
     "name": "stdout",
     "output_type": "stream",
     "text": [
      "Saved cropped image: train/cropped\\cropped_test_10.png\n",
      "Saved cropped image: train/cropped\\cropped_test_12.png\n",
      "Saved cropped image: train/cropped\\cropped_test_14.png\n",
      "Saved cropped image: train/cropped\\cropped_test_16.png\n",
      "Saved cropped image: train/cropped\\cropped_test_18.png\n",
      "Saved cropped image: train/cropped\\cropped_test_2.png\n",
      "Saved cropped image: train/cropped\\cropped_test_20.png\n",
      "Saved cropped image: train/cropped\\cropped_test_22.png\n",
      "Saved cropped image: train/cropped\\cropped_test_4.png\n",
      "Saved cropped image: train/cropped\\cropped_test_6.png\n",
      "Saved cropped image: train/cropped\\cropped_test_8.png\n"
     ]
    }
   ],
   "source": [
    "import cv2\n",
    "import os\n",
    "\n",
    "file_path = \"train/chart2\"\n",
    "cropped_folder = \"train/cropped\"\n",
    "\n",
    "os.makedirs(cropped_folder, exist_ok=True)\n",
    "\n",
    "for filename in os.listdir(file_path):\n",
    "    if filename.endswith((\".png\", \".jpg\", \".jpeg\")):\n",
    "        img_path = os.path.join(file_path, filename)\n",
    "        image = cv2.imread(img_path)\n",
    "\n",
    "        top = 600\n",
    "        bottom = 600\n",
    "\n",
    "        h, w = image.shape[:2]\n",
    "\n",
    "        cropped = image[top:h-bottom, 0:w]\n",
    "\n",
    "        cropped_filename = os.path.join(cropped_folder, f\"cropped_{filename}\")\n",
    "        \n",
    "        cv2.imwrite(cropped_filename, cropped)\n",
    "        print(f\"Saved cropped image: {cropped_filename}\") \n"
   ]
  },
  {
   "cell_type": "markdown",
   "id": "e601faf3",
   "metadata": {},
   "source": [
    "IN CASE IMAGE SIZE IS MISMATCH THEN GO ONE BY ONE"
   ]
  },
  {
   "cell_type": "code",
   "execution_count": 20,
   "id": "f1f4f464",
   "metadata": {},
   "outputs": [],
   "source": [
    "import cv2\n",
    "\n",
    "image = cv2.imread(\"train/chart/test_2.png\")\n",
    "\n",
    "top = 600\n",
    "bottom = 710\n",
    "\n",
    "h, w = image.shape[:2]\n",
    "cropped = image[top:h-bottom, 0:w]\n",
    "cv2.namedWindow(\"Cropped Image\", cv2.WINDOW_NORMAL)\n",
    "cv2.resizeWindow(\"Cropped Image\", cropped.shape[1], cropped.shape[0]),\n",
    "cv2.imshow(\"Cropped Image\", cropped) \n",
    "cv2.waitKey(0) \n",
    "cv2.destroyAllWindows()\n"
   ]
  },
  {
   "cell_type": "code",
   "execution_count": 12,
   "id": "dcb3043f",
   "metadata": {},
   "outputs": [
    {
     "name": "stdout",
     "output_type": "stream",
     "text": [
      "1700 2800 3\n",
      "Saved cropped image: train/cropped2\\cropped_test_10.png\n",
      "1700 2800 3\n",
      "Saved cropped image: train/cropped2\\cropped_test_12.png\n",
      "1700 2800 3\n",
      "Saved cropped image: train/cropped2\\cropped_test_14.png\n",
      "1700 2800 3\n",
      "Saved cropped image: train/cropped2\\cropped_test_16.png\n",
      "1700 2800 3\n",
      "Saved cropped image: train/cropped2\\cropped_test_18.png\n",
      "1700 2800 3\n",
      "Saved cropped image: train/cropped2\\cropped_test_2.png\n",
      "1700 2800 3\n",
      "Saved cropped image: train/cropped2\\cropped_test_20.png\n",
      "1700 2800 3\n",
      "Saved cropped image: train/cropped2\\cropped_test_22.png\n",
      "1700 2800 3\n",
      "Saved cropped image: train/cropped2\\cropped_test_4.png\n",
      "1700 2800 3\n",
      "Saved cropped image: train/cropped2\\cropped_test_6.png\n",
      "1700 2800 3\n",
      "Saved cropped image: train/cropped2\\cropped_test_8.png\n"
     ]
    }
   ],
   "source": [
    "import cv2\n",
    "import os\n",
    "\n",
    "file_path = \"train/chart2\"\n",
    "cropped_folder = \"train/cropped2\"\n",
    "\n",
    "os.makedirs(cropped_folder, exist_ok=True)\n",
    "\n",
    "for filename in os.listdir(file_path):\n",
    "    if filename.endswith((\".png\", \".jpg\", \".jpeg\")):\n",
    "        img_path = os.path.join(file_path, filename)\n",
    "        image = cv2.imread(img_path)\n",
    "\n",
    "        height, width, channels = image.shape\n",
    "        print (height, width, channels)\n",
    "        top = 500\n",
    "        bottom = 1230\n",
    "\n",
    "        h, w = image.shape[:2]\n",
    "\n",
    "        cropped = image[top:h-bottom, 0:w]\n",
    "\n",
    "        cropped_filename = os.path.join(cropped_folder, f\"cropped_{filename}\")\n",
    "        # cv2.imwrite(cropped_filename, cropped)\n",
    "        print(f\"Saved cropped image: {cropped_filename}\") \n"
   ]
  }
 ],
 "metadata": {
  "kernelspec": {
   "display_name": "venv",
   "language": "python",
   "name": "python3"
  },
  "language_info": {
   "codemirror_mode": {
    "name": "ipython",
    "version": 3
   },
   "file_extension": ".py",
   "mimetype": "text/x-python",
   "name": "python",
   "nbconvert_exporter": "python",
   "pygments_lexer": "ipython3",
   "version": "3.13.7"
  }
 },
 "nbformat": 4,
 "nbformat_minor": 5
}
