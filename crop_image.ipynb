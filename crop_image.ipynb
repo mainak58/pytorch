{
 "cells": [
  {
   "cell_type": "code",
   "execution_count": 1,
   "id": "787cd499",
   "metadata": {},
   "outputs": [],
   "source": [
    "import cv2"
   ]
  },
  {
   "cell_type": "code",
   "execution_count": 17,
   "id": "85f6421a",
   "metadata": {},
   "outputs": [],
   "source": [
    "import cv2\n",
    "\n",
    "image = cv2.imread(\"page.png\")\n",
    "\n",
    "top = 600     \n",
    "bottom = 600  \n",
    "\n",
    "h, w = image.shape[:2]\n",
    "\n",
    "cropped = image[top:h-bottom, 0:w]\n",
    "\n",
    "cv2.namedWindow(\"Cropped Image\", cv2.WINDOW_NORMAL)\n",
    "cv2.resizeWindow(\"Cropped Image\", cropped.shape[1], cropped.shape[0])\n",
    "\n",
    "cv2.imshow(\"Cropped Image\", cropped)\n",
    "cv2.waitKey(0)\n",
    "cv2.destroyAllWindows()\n"
   ]
  },
  {
   "cell_type": "markdown",
   "id": "e601faf3",
   "metadata": {},
   "source": [
    "match with tensor"
   ]
  },
  {
   "cell_type": "code",
   "execution_count": null,
   "id": "d7a82be8",
   "metadata": {},
   "outputs": [
    {
     "name": "stdout",
     "output_type": "stream",
     "text": [
      "Loaded 15 chart images and 14 non-chart images.\n"
     ]
    }
   ],
   "source": []
  },
  {
   "cell_type": "code",
   "execution_count": null,
   "id": "f85bf5a5",
   "metadata": {},
   "outputs": [],
   "source": []
  },
  {
   "cell_type": "code",
   "execution_count": null,
   "id": "1bd1b3fa",
   "metadata": {},
   "outputs": [
    {
     "name": "stdout",
     "output_type": "stream",
     "text": [
      "Max Cosine with chart images: 1.0000057220458984\n",
      "Max Cosine with non-chart images: 0.9967813491821289\n",
      "Max SSIM with chart images: 1.0\n",
      "Max SSIM with non-chart images: 0.66786647\n"
     ]
    }
   ],
   "source": []
  },
  {
   "cell_type": "code",
   "execution_count": null,
   "id": "0f94e964",
   "metadata": {},
   "outputs": [
    {
     "name": "stdout",
     "output_type": "stream",
     "text": [
      "Input image is likely a chart\n"
     ]
    }
   ],
   "source": []
  }
 ],
 "metadata": {
  "kernelspec": {
   "display_name": "venv",
   "language": "python",
   "name": "python3"
  },
  "language_info": {
   "codemirror_mode": {
    "name": "ipython",
    "version": 3
   },
   "file_extension": ".py",
   "mimetype": "text/x-python",
   "name": "python",
   "nbconvert_exporter": "python",
   "pygments_lexer": "ipython3",
   "version": "3.13.1"
  }
 },
 "nbformat": 4,
 "nbformat_minor": 5
}
