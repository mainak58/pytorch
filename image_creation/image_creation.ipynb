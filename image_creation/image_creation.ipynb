{
 "cells": [
  {
   "cell_type": "code",
   "execution_count": 5,
   "id": "08091559",
   "metadata": {},
   "outputs": [],
   "source": [
    "from pdf2image import convert_from_path, convert_from_bytes\n",
    "import os\n",
    "import tempfile\n",
    "\n",
    "pdf_folder = r\"C:\\Users\\MAINAK\\Desktop\\opencv\\pdfs\"\n",
    "pdf_files = [f for f in os.listdir(pdf_folder) if f.endswith('.pdf')]\n",
    "\n"
   ]
  },
  {
   "cell_type": "code",
   "execution_count": 2,
   "id": "cd52ab50",
   "metadata": {},
   "outputs": [
    {
     "name": "stdout",
     "output_type": "stream",
     "text": [
      "Processing: C:\\Users\\MAINAK\\Desktop\\opencv\\pdfs\\CFA L2 - Nilisha Das.pdf\n",
      "Saved: test_1.png\n",
      "Saved: test_2.png\n",
      "Processing: C:\\Users\\MAINAK\\Desktop\\opencv\\pdfs\\CFA Resuly - Krish Gupta.pdf\n",
      "Saved: test_3.png\n",
      "Saved: test_4.png\n",
      "Processing: C:\\Users\\MAINAK\\Desktop\\opencv\\pdfs\\example.pdf\n",
      "Saved: test_5.png\n",
      "Processing: C:\\Users\\MAINAK\\Desktop\\opencv\\pdfs\\example2.pdf\n",
      "Saved: test_6.png\n",
      "Saved: test_7.png\n",
      "Processing: C:\\Users\\MAINAK\\Desktop\\opencv\\pdfs\\example3.pdf\n",
      "Saved: test_8.png\n",
      "Saved: test_9.png\n",
      "Processing: C:\\Users\\MAINAK\\Desktop\\opencv\\pdfs\\example4.pdf\n",
      "Saved: test_10.png\n",
      "Saved: test_11.png\n",
      "Processing: C:\\Users\\MAINAK\\Desktop\\opencv\\pdfs\\example5.pdf\n",
      "Saved: test_12.png\n",
      "Saved: test_13.png\n",
      "Processing: C:\\Users\\MAINAK\\Desktop\\opencv\\pdfs\\L2 Yashs Result - Yash Agarwal (1).pdf\n",
      "Saved: test_14.png\n",
      "Saved: test_15.png\n",
      "Processing: C:\\Users\\MAINAK\\Desktop\\opencv\\pdfs\\RESULT L1 - Pankaj Kumar Prasad.pdf\n",
      "Saved: test_16.png\n",
      "Saved: test_17.png\n",
      "Processing: C:\\Users\\MAINAK\\Desktop\\opencv\\pdfs\\results (1) - Shruti Shukla.pdf\n",
      "Saved: test_18.png\n",
      "Saved: test_19.png\n",
      "Processing: C:\\Users\\MAINAK\\Desktop\\opencv\\pdfs\\results (2) - sudip ash.pdf\n",
      "Saved: test_20.png\n",
      "Saved: test_21.png\n",
      "Processing: C:\\Users\\MAINAK\\Desktop\\opencv\\pdfs\\results (2) - Titas Sarkar.pdf\n",
      "Saved: test_22.png\n",
      "Saved: test_23.png\n",
      "Processing: C:\\Users\\MAINAK\\Desktop\\opencv\\pdfs\\results - Ankit Thalor.pdf\n",
      "Saved: test_24.png\n",
      "Saved: test_25.png\n",
      "Processing: C:\\Users\\MAINAK\\Desktop\\opencv\\pdfs\\results - Neal Agarwal (10277).pdf\n",
      "Saved: test_26.png\n",
      "Saved: test_27.png\n",
      "Processing: C:\\Users\\MAINAK\\Desktop\\opencv\\pdfs\\results-3 - Palak Kothari.pdf\n",
      "Saved: test_28.png\n",
      "Saved: test_29.png\n"
     ]
    }
   ],
   "source": [
    "from pdf2image import convert_from_path\n",
    "import os\n",
    "import tempfile\n",
    "\n",
    "pdf_folder = r\"C:\\Users\\MAINAK\\Desktop\\opencv\\pdfs\"   # full path to your folder\n",
    "pdf_files = [f for f in os.listdir(pdf_folder) if f.endswith('.pdf')]\n",
    "\n",
    "with tempfile.TemporaryDirectory() as path:\n",
    "    counter = 1\n",
    "\n",
    "    for pdf in pdf_files:\n",
    "        pdf_path = os.path.join(pdf_folder, pdf)\n",
    "        print(f\"Processing: {pdf_path}\")\n",
    "        images_from_path = convert_from_path(\n",
    "            pdf_path,\n",
    "            output_folder=path,\n",
    "            poppler_path=r\"C:\\poppler\\Library\\bin\",   # your poppler bin\n",
    "            use_pdftocairo=True\n",
    "        )\n",
    "\n",
    "        for img in images_from_path:\n",
    "            file_name = f\"test_{counter}.png\"\n",
    "            img.save(file_name, \"PNG\")\n",
    "            print(f\"Saved: {file_name}\")\n",
    "            counter += 1\n"
   ]
  }
 ],
 "metadata": {
  "kernelspec": {
   "display_name": "venv",
   "language": "python",
   "name": "python3"
  },
  "language_info": {
   "codemirror_mode": {
    "name": "ipython",
    "version": 3
   },
   "file_extension": ".py",
   "mimetype": "text/x-python",
   "name": "python",
   "nbconvert_exporter": "python",
   "pygments_lexer": "ipython3",
   "version": "3.13.1"
  }
 },
 "nbformat": 4,
 "nbformat_minor": 5
}
