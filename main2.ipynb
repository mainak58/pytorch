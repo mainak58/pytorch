{
 "cells": [
  {
   "cell_type": "code",
   "execution_count": null,
   "id": "9039b4b1",
   "metadata": {},
   "outputs": [],
   "source": [
    "import torch\n",
    "from torch.utils.data import DataLoader\n",
    "from torchvision import datasets, transforms\n",
    "\n",
    "# Transformations\n",
    "\n",
    "\n",
    "# Dataset: folder structure\n",
    "# dataset/\n",
    "#    charts/\n",
    "#    non_charts/\n",
    "dataset = datasets.ImageFolder(root='dataset', transform=transform)\n",
    "\n",
    "# DataLoader\n",
    "dataloader = DataLoader(dataset, batch_size=16, shuffle=True)\n",
    "\n",
    "# Check classes\n",
    "print(dataset.classes)  # ['charts', 'non_charts']\n",
    "\n",
    "# Example iteration\n",
    "for imgs, labels in dataloader:\n",
    "    print(imgs.shape, labels)\n",
    "    break\n"
   ]
  },
  {
   "cell_type": "code",
   "execution_count": 1,
   "id": "33994cad",
   "metadata": {},
   "outputs": [],
   "source": [
    "import torch"
   ]
  },
  {
   "cell_type": "code",
   "execution_count": 16,
   "id": "e75bcfa4",
   "metadata": {},
   "outputs": [],
   "source": [
    "from torch.utils.data import DataLoader\n",
    "from torchvision import datasets, transforms"
   ]
  },
  {
   "cell_type": "code",
   "execution_count": 17,
   "id": "e3e4c612",
   "metadata": {},
   "outputs": [],
   "source": [
    "transform = transforms.Compose([\n",
    "    transforms.Resize((224, 224)),\n",
    "    transforms.RandomHorizontalFlip(),\n",
    "    transforms.RandomVerticalFlip(),\n",
    "    transforms.RandomRotation(20),\n",
    "    transforms.ColorJitter(brightness=0.2, contrast=0.2, saturation=0.2),\n",
    "    transforms.ToTensor()\n",
    "])"
   ]
  },
  {
   "cell_type": "code",
   "execution_count": 18,
   "id": "f8688866",
   "metadata": {},
   "outputs": [
    {
     "name": "stdout",
     "output_type": "stream",
     "text": [
      "torch.Size([4, 3, 224, 224]) tensor([0, 1, 1, 0])\n"
     ]
    }
   ],
   "source": [
    "dataset = datasets.ImageFolder(root='dataset', transform=transform)\n",
    "dataloader = DataLoader(dataset, batch_size=4, shuffle=True)\n",
    "\n",
    "for imgs, labels in dataloader:\n",
    "    print(imgs.shape, labels)\n",
    "    break\n"
   ]
  },
  {
   "cell_type": "code",
   "execution_count": 19,
   "id": "019815e3",
   "metadata": {},
   "outputs": [],
   "source": [
    "import torch.nn as nn\n",
    "import torch.optim as optim"
   ]
  },
  {
   "cell_type": "code",
   "execution_count": null,
   "id": "a136120c",
   "metadata": {},
   "outputs": [
    {
     "name": "stdout",
     "output_type": "stream",
     "text": [
      "Epoch 1/20, Loss: 0.9297, Val Acc: 0.00\n",
      "Epoch 2/20, Loss: 0.5768, Val Acc: 0.50\n",
      "Epoch 3/20, Loss: 0.8639, Val Acc: 0.50\n",
      "Epoch 4/20, Loss: 0.8277, Val Acc: 0.50\n",
      "Epoch 5/20, Loss: 0.6110, Val Acc: 0.50\n",
      "Epoch 6/20, Loss: 0.6160, Val Acc: 0.50\n",
      "Epoch 7/20, Loss: 0.8512, Val Acc: 0.50\n",
      "Epoch 8/20, Loss: 0.8555, Val Acc: 0.50\n",
      "Epoch 9/20, Loss: 0.6001, Val Acc: 0.50\n",
      "Epoch 10/20, Loss: 0.8351, Val Acc: 0.50\n",
      "Epoch 11/20, Loss: 0.5816, Val Acc: 0.50\n",
      "Epoch 12/20, Loss: 0.8153, Val Acc: 0.50\n",
      "Epoch 13/20, Loss: 0.6049, Val Acc: 0.50\n",
      "Epoch 14/20, Loss: 0.5788, Val Acc: 0.50\n",
      "Epoch 15/20, Loss: 0.5648, Val Acc: 0.50\n",
      "Epoch 16/20, Loss: 0.8503, Val Acc: 0.50\n",
      "Epoch 17/20, Loss: 0.5624, Val Acc: 0.50\n",
      "Epoch 18/20, Loss: 0.5645, Val Acc: 0.50\n",
      "Epoch 19/20, Loss: 0.9303, Val Acc: 0.50\n",
      "Epoch 20/20, Loss: 0.4857, Val Acc: 0.50\n"
     ]
    }
   ],
   "source": [
    "import torch\n",
    "import torch.nn as nn\n",
    "import torch.optim as optim\n",
    "from torchvision import datasets, transforms\n",
    "from torch.utils.data import DataLoader, random_split\n",
    "\n",
    "transform = transforms.Compose([\n",
    "    transforms.RandomResizedCrop(128), \n",
    "    transforms.RandomHorizontalFlip(),\n",
    "    transforms.RandomRotation(30),\n",
    "    transforms.ColorJitter(brightness=0.3, contrast=0.3, saturation=0.3),\n",
    "    transforms.ToTensor()\n",
    "])\n",
    "\n",
    "dataset = datasets.ImageFolder(root='dataset', transform=transform)\n",
    "\n",
    "train_size = int(0.75 * len(dataset))\n",
    "val_size = len(dataset) - train_size\n",
    "train_dataset, val_dataset = random_split(dataset, [train_size, val_size])\n",
    "\n",
    "train_loader = DataLoader(train_dataset, batch_size=2, shuffle=True)\n",
    "val_loader = DataLoader(val_dataset, batch_size=2)\n",
    "\n",
    "class TinyCNN(nn.Module):\n",
    "    def __init__(self):\n",
    "        super(TinyCNN, self).__init__()\n",
    "        self.conv = nn.Sequential(\n",
    "            nn.Conv2d(3, 8, 3, padding=1),\n",
    "            nn.ReLU(),\n",
    "            nn.MaxPool2d(2),\n",
    "            nn.Conv2d(8, 16, 3, padding=1),\n",
    "            nn.ReLU(),\n",
    "            nn.MaxPool2d(2)\n",
    "        )\n",
    "        self.fc = nn.Sequential(\n",
    "            nn.Flatten(),\n",
    "            nn.Linear(16*32*32, 32),\n",
    "            nn.ReLU(),\n",
    "            nn.Linear(32, 2)\n",
    "        )\n",
    "\n",
    "    def forward(self, x):\n",
    "        x = self.conv(x)\n",
    "        x = self.fc(x)\n",
    "        return x\n",
    "\n",
    "model = TinyCNN()\n",
    "\n",
    "criterion = nn.CrossEntropyLoss()\n",
    "optimizer = optim.Adam(model.parameters(), lr=0.001)\n",
    "\n",
    "# -----------------\n",
    "# 4. Training Loop\n",
    "# -----------------\n",
    "epochs = 20\n",
    "for epoch in range(epochs):\n",
    "    model.train()\n",
    "    for imgs, labels in train_loader:\n",
    "        optimizer.zero_grad()\n",
    "        outputs = model(imgs)\n",
    "        loss = criterion(outputs, labels)\n",
    "        loss.backward()\n",
    "        optimizer.step()\n",
    "    \n",
    "    # Validation\n",
    "    model.eval()\n",
    "    correct, total = 0, 0\n",
    "    with torch.no_grad():\n",
    "        for imgs, labels in val_loader:\n",
    "            outputs = model(imgs)\n",
    "            preds = torch.argmax(outputs, dim=1)\n",
    "            correct += (preds == labels).sum().item()\n",
    "            total += labels.size(0)\n",
    "    acc = correct / total\n",
    "    print(f\"Epoch {epoch+1}/{epochs}, Loss: {loss.item():.4f}, Val Acc: {acc:.2f}\")\n"
   ]
  },
  {
   "cell_type": "code",
   "execution_count": 44,
   "id": "b1b2c60c",
   "metadata": {},
   "outputs": [
    {
     "name": "stdout",
     "output_type": "stream",
     "text": [
      "Model saved as tiny_chart_cnn.pth\n"
     ]
    }
   ],
   "source": [
    "torch.save(model.state_dict(), \"tiny_chart_cnn.pth\")\n",
    "print(\"Model saved as tiny_chart_cnn.pth\")"
   ]
  },
  {
   "cell_type": "code",
   "execution_count": 52,
   "id": "25b5c5b5",
   "metadata": {},
   "outputs": [
    {
     "name": "stdout",
     "output_type": "stream",
     "text": [
      "This image is NON-CHART\n"
     ]
    }
   ],
   "source": [
    "from PIL import Image\n",
    "import torch\n",
    "from torchvision import transforms\n",
    "\n",
    "test_img = Image.open(\"page.png\").convert(\"RGB\")\n",
    "\n",
    "transform = transforms.Compose([\n",
    "    transforms.Resize((128, 128)),\n",
    "    transforms.ToTensor()\n",
    "])\n",
    "input_tensor = transform(test_img).unsqueeze(0)\n",
    "\n",
    "model = TinyCNN()\n",
    "model.load_state_dict(torch.load(\"tiny_chart_cnn.pth\"))\n",
    "model.eval()\n",
    "\n",
    "with torch.no_grad():\n",
    "    output = model(input_tensor)\n",
    "    pred = torch.argmax(output, dim=1).item()\n",
    "\n",
    "if pred == 0:\n",
    "    print(\"This image is a CHART\")\n",
    "else:\n",
    "    print(\"This image is NON-CHART\")\n"
   ]
  }
 ],
 "metadata": {
  "kernelspec": {
   "display_name": "venv",
   "language": "python",
   "name": "python3"
  },
  "language_info": {
   "codemirror_mode": {
    "name": "ipython",
    "version": 3
   },
   "file_extension": ".py",
   "mimetype": "text/x-python",
   "name": "python",
   "nbconvert_exporter": "python",
   "pygments_lexer": "ipython3",
   "version": "3.13.1"
  }
 },
 "nbformat": 4,
 "nbformat_minor": 5
}
