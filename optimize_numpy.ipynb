{
 "cells": [
  {
   "cell_type": "code",
   "execution_count": null,
   "id": "83c61f51",
   "metadata": {},
   "outputs": [
    {
     "name": "stdout",
     "output_type": "stream",
     "text": [
      "Image: C:\\Users\\MAINAK\\Desktop\\opencv\\dataset\\charts\\page.png - Match score: 496\n",
      "Image: C:\\Users\\MAINAK\\Desktop\\opencv\\dataset\\charts\\page2.png - Match score: 496\n",
      "Image: C:\\Users\\MAINAK\\Desktop\\opencv\\dataset\\charts\\page3.png - Match score: 496\n",
      "Image: C:\\Users\\MAINAK\\Desktop\\opencv\\dataset\\charts\\nc_page_82.png - Match score: 186\n",
      "Image: C:\\Users\\MAINAK\\Desktop\\opencv\\dataset\\charts\\nc_page_93.png - Match score: 184\n",
      "Image: C:\\Users\\MAINAK\\Desktop\\opencv\\dataset\\charts\\nc_page_67.png - Match score: 182\n",
      "Image: C:\\Users\\MAINAK\\Desktop\\opencv\\dataset\\charts\\nc_page.png - Match score: 181\n"
     ]
    }
   ],
   "source": [
    "import os\n",
    "import cv2\n",
    "import numpy as np\n",
    "\n",
    "\n",
    "def orb_feature_matching(template_path, image_folder):\n",
    "    orb = cv2.ORB_create()\n",
    "\n",
    "    template = cv2.imread(template_path, cv2.IMREAD_GRAYSCALE)\n",
    "    kp1, des1 = orb.detectAndCompute(template, None)\n",
    "    image_scores = []\n",
    "\n",
    "    bf = cv2.BFMatcher(cv2.NORM_HAMMING, crossCheck=True)\n",
    "\n",
    "    image_paths = [\n",
    "        os.path.join(image_folder, f) for f in os.listdir(image_folder)\n",
    "        if f.lower().endswith(('.png', '.jpg', '.jpeg'))\n",
    "    ]\n",
    "    \n",
    "    if not image_paths:\n",
    "        print(\"No valid image files found in the folder!\")\n",
    "        return []\n",
    "\n",
    "    for path in image_paths:\n",
    "        img = cv2.imread(path, cv2.IMREAD_GRAYSCALE)\n",
    "        if img is None:\n",
    "            print(f\"Skipping invalid image: {path}\")\n",
    "            continue \n",
    "        \n",
    "        kp2, des2 = orb.detectAndCompute(img, None)\n",
    "\n",
    "        matches = bf.match(des1, des2)\n",
    "        \n",
    "        matches = sorted(matches, key=lambda x: x.distance)\n",
    "\n",
    "        match_score = len(matches)\n",
    "\n",
    "        image_scores.append((path, match_score))\n",
    "\n",
    "\n",
    "    image_scores.sort(key=lambda x: x[1], reverse=True)\n",
    "\n",
    "    return image_scores\n",
    "\n",
    "if __name__ == \"__main__\":\n",
    "    images_folder = r\"C:\\Users\\MAINAK\\Desktop\\opencv\\dataset\\charts\"\n",
    "    reference_image = r\"C:\\Users\\MAINAK\\Desktop\\opencv\\dataset\\charts\\page.png\"\n",
    "\n",
    "    image_matches = orb_feature_matching(reference_image, images_folder)\n",
    "\n",
    "    if image_matches:\n",
    "        for match, score in image_matches:\n",
    "            print(f\"Image: {match} - Match score: {score}\")\n",
    "    else:\n",
    "        print(\"No valid images found for comparison.\")\n"
   ]
  }
 ],
 "metadata": {
  "kernelspec": {
   "display_name": "venv",
   "language": "python",
   "name": "python3"
  },
  "language_info": {
   "codemirror_mode": {
    "name": "ipython",
    "version": 3
   },
   "file_extension": ".py",
   "mimetype": "text/x-python",
   "name": "python",
   "nbconvert_exporter": "python",
   "pygments_lexer": "ipython3",
   "version": "3.13.1"
  }
 },
 "nbformat": 4,
 "nbformat_minor": 5
}
