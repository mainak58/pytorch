{
 "cells": [
  {
   "cell_type": "code",
   "execution_count": null,
   "id": "83c61f51",
   "metadata": {},
   "outputs": [
    {
     "name": "stdout",
     "output_type": "stream",
     "text": [
      "Image: C:\\Users\\MAINAK\\Desktop\\opencv\\image_creation\\train\\chart\\9.png - Match score: 274\n",
      "Image: C:\\Users\\MAINAK\\Desktop\\opencv\\image_creation\\train\\chart\\11.png - Match score: 273\n",
      "Image: C:\\Users\\MAINAK\\Desktop\\opencv\\image_creation\\train\\chart\\13.png - Match score: 273\n",
      "Image: C:\\Users\\MAINAK\\Desktop\\opencv\\image_creation\\train\\chart\\7.png - Match score: 273\n",
      "Image: C:\\Users\\MAINAK\\Desktop\\opencv\\image_creation\\train\\chart\\29.png - Match score: 266\n",
      "Image: C:\\Users\\MAINAK\\Desktop\\opencv\\image_creation\\train\\chart\\17.png - Match score: 265\n",
      "Image: C:\\Users\\MAINAK\\Desktop\\opencv\\image_creation\\train\\chart\\19.png - Match score: 265\n",
      "Image: C:\\Users\\MAINAK\\Desktop\\opencv\\image_creation\\train\\chart\\2.png - Match score: 265\n",
      "Image: C:\\Users\\MAINAK\\Desktop\\opencv\\image_creation\\train\\chart\\25.png - Match score: 265\n",
      "Image: C:\\Users\\MAINAK\\Desktop\\opencv\\image_creation\\train\\chart\\4.png - Match score: 265\n",
      "Image: C:\\Users\\MAINAK\\Desktop\\opencv\\image_creation\\train\\chart\\21.png - Match score: 264\n",
      "Image: C:\\Users\\MAINAK\\Desktop\\opencv\\image_creation\\train\\chart\\23.png - Match score: 264\n",
      "Image: C:\\Users\\MAINAK\\Desktop\\opencv\\image_creation\\train\\chart\\27.png - Match score: 264\n",
      "Image: C:\\Users\\MAINAK\\Desktop\\opencv\\image_creation\\train\\chart\\15.png - Match score: 180\n",
      "Image: C:\\Users\\MAINAK\\Desktop\\opencv\\image_creation\\train\\chart\\5.png - Match score: 123\n"
     ]
    }
   ],
   "source": [
    "import os\n",
    "import cv2\n",
    "import numpy as np\n",
    "\n",
    "\n",
    "def orb_feature_matching(template_path, image_folder):\n",
    "    orb = cv2.ORB_create()\n",
    "\n",
    "    template = cv2.imread(template_path, cv2.IMREAD_GRAYSCALE)\n",
    "    kp1, des1 = orb.detectAndCompute(template, None)\n",
    "    image_scores = []\n",
    "\n",
    "    bf = cv2.BFMatcher(cv2.NORM_HAMMING, crossCheck=True)\n",
    "\n",
    "    image_paths = [\n",
    "        os.path.join(image_folder, f) for f in os.listdir(image_folder)\n",
    "        if f.lower().endswith(('.png', '.jpg', '.jpeg'))\n",
    "    ]\n",
    "    \n",
    "    if not image_paths:\n",
    "        print(\"No valid image files found in the folder!\")\n",
    "        return []\n",
    "\n",
    "    for path in image_paths:\n",
    "        img = cv2.imread(path, cv2.IMREAD_GRAYSCALE)\n",
    "        if img is None:\n",
    "            print(f\"Skipping invalid image: {path}\")\n",
    "            continue \n",
    "        \n",
    "        kp2, des2 = orb.detectAndCompute(img, None)\n",
    "\n",
    "        matches = bf.match(des1, des2)\n",
    "        \n",
    "        matches = sorted(matches, key=lambda x: x.distance)\n",
    "\n",
    "        match_score = len(matches)\n",
    "\n",
    "        image_scores.append((path, match_score))\n",
    "\n",
    "\n",
    "    image_scores.sort(key=lambda x: x[1], reverse=True)\n",
    "\n",
    "    return image_scores\n",
    "\n",
    "if __name__ == \"__main__\":\n",
    "    images_folder = r\"C:\\Users\\MAINAK\\Desktop\\opencv\\image_creation\\train\\nonchart\"\n",
    "    reference_image = r\"C:\\Users\\MAINAK\\Desktop\\opencv\\image_creation\\train\\chart\"\n",
    "\n",
    "    image_matches = orb_feature_matching(reference_image, images_folder)\n",
    "\n",
    "    if image_matches:\n",
    "        for match, score in image_matches:\n",
    "            print(f\"Image: {match} - Match score: {score}\")\n",
    "    else:\n",
    "        print(\"No valid images found for comparison.\")\n"
   ]
  }
 ],
 "metadata": {
  "kernelspec": {
   "display_name": "venv",
   "language": "python",
   "name": "python3"
  },
  "language_info": {
   "codemirror_mode": {
    "name": "ipython",
    "version": 3
   },
   "file_extension": ".py",
   "mimetype": "text/x-python",
   "name": "python",
   "nbconvert_exporter": "python",
   "pygments_lexer": "ipython3",
   "version": "3.13.1"
  }
 },
 "nbformat": 4,
 "nbformat_minor": 5
}
