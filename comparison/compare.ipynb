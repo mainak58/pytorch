{
 "cells": [
  {
   "cell_type": "code",
   "execution_count": null,
   "id": "8c46a561",
   "metadata": {},
   "outputs": [
    {
     "name": "stdout",
     "output_type": "stream",
     "text": [
      "Chart Stats Columns:\n",
      "Index(['Folder', 'File', 'inputimagename', 'Shape', 'Min', 'Max', 'Mean',\n",
      "       'cosinesim', 'ssim_scores'],\n",
      "      dtype='object')\n",
      "\n",
      "Chart Stats Cropped Columns:\n",
      "Index(['Folder', 'File', 'inputimagename', 'Shape', 'Min', 'Max', 'Mean',\n",
      "       'cosinesim', 'ssim_scores'],\n",
      "      dtype='object')\n",
      "\n",
      "Non-Chart Stats Columns:\n",
      "Index(['Folder', 'File', 'inputimagename', 'Shape', 'Min', 'Max', 'Mean',\n",
      "       'cosinesim', 'ssim_scores'],\n",
      "      dtype='object')\n"
     ]
    }
   ],
   "source": [
    "import pandas as pd\n",
    "import matplotlib.pyplot as plt\n",
    "\n",
    "chart_stat = pd.read_excel('chart_stats.xlsx')\n",
    "chart_stat_cropped = pd.read_excel('chart_stats2.xlsx')\n",
    "non_chart_stat = pd.read_excel('nonchart_stats.xlsx')\n",
    "\n",
    "print(\"Chart Stats Columns:\")\n",
    "print(chart_stat.columns)\n",
    "\n",
    "print(\"\\nChart Stats Cropped Columns:\")\n",
    "print(chart_stat_cropped.columns)\n",
    "\n",
    "print(\"\\nNon-Chart Stats Columns:\")\n",
    "print(non_chart_stat.columns)\n",
    "\n",
    "df['Folder']\n"
   ]
  }
 ],
 "metadata": {
  "kernelspec": {
   "display_name": "venv",
   "language": "python",
   "name": "python3"
  },
  "language_info": {
   "codemirror_mode": {
    "name": "ipython",
    "version": 3
   },
   "file_extension": ".py",
   "mimetype": "text/x-python",
   "name": "python",
   "nbconvert_exporter": "python",
   "pygments_lexer": "ipython3",
   "version": "3.13.7"
  }
 },
 "nbformat": 4,
 "nbformat_minor": 5
}
